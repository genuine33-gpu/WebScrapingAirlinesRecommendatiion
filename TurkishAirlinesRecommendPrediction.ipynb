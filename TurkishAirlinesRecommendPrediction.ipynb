{
  "nbformat": 4,
  "nbformat_minor": 0,
  "metadata": {
    "colab": {
      "provenance": []
    },
    "kernelspec": {
      "name": "python3",
      "display_name": "Python 3"
    },
    "language_info": {
      "name": "python"
    }
  },
  "cells": [
    {
      "cell_type": "code",
      "source": [
        "import requests\n",
        "from bs4 import BeautifulSoup\n",
        "import pandas as pd"
      ],
      "metadata": {
        "id": "N8E83C6qrqIV"
      },
      "execution_count": 2,
      "outputs": []
    },
    {
      "cell_type": "code",
      "source": [
        "\n",
        "from sklearn.ensemble import RandomForestRegressor\n",
        "from sklearn.metrics import confusion_matrix, accuracy_score, precision_score, recall_score, f1_score\n",
        "from sklearn.model_selection import train_test_split\n",
        "from sklearn.impute import SimpleImputer\n",
        "from sklearn.preprocessing import StandardScaler\n",
        "from sklearn.linear_model import LogisticRegression\n",
        "from sklearn.metrics import classification_report\n",
        "from sklearn.model_selection import GridSearchCV\n",
        "from sklearn.impute import SimpleImputer\n",
        "\n",
        "import seaborn as sns\n",
        "import matplotlib.pyplot as plt\n",
        "from sklearn.svm import SVC\n",
        "from sklearn.model_selection import RepeatedStratifiedKFold\n",
        "from sklearn.model_selection import cross_val_score\n",
        "from sklearn.metrics import roc_auc_score\n",
        "from sklearn.metrics import RocCurveDisplay\n",
        "from sklearn.ensemble import RandomForestClassifier\n",
        "\n",
        "\n"
      ],
      "metadata": {
        "id": "u5ZlAd9karOH"
      },
      "execution_count": 3,
      "outputs": []
    },
    {
      "cell_type": "code",
      "source": [
        "df_ratings = pd.read_csv(\"turkish_airlines_ratings.csv\")"
      ],
      "metadata": {
        "id": "GhK-zkJ0wIf8"
      },
      "execution_count": 4,
      "outputs": []
    },
    {
      "cell_type": "code",
      "source": [
        "df_ratings.info()"
      ],
      "metadata": {
        "colab": {
          "base_uri": "https://localhost:8080/"
        },
        "id": "YiNfOJyFlE6t",
        "outputId": "5f28b452-4288-46a2-bd44-0666b14eeef5"
      },
      "execution_count": null,
      "outputs": [
        {
          "output_type": "stream",
          "name": "stdout",
          "text": [
            "<class 'pandas.core.frame.DataFrame'>\n",
            "Int64Index: 2330 entries, 0 to 2459\n",
            "Data columns (total 13 columns):\n",
            " #   Column                  Non-Null Count  Dtype \n",
            "---  ------                  --------------  ----- \n",
            " 0   Aircraft                844 non-null    object\n",
            " 1   Type_Of_Traveller       1996 non-null   object\n",
            " 2   Seat_Type               2330 non-null   object\n",
            " 3   Route                   1990 non-null   object\n",
            " 4   Date_Flown              1996 non-null   object\n",
            " 5   Seat_Comfort            2179 non-null   object\n",
            " 6   Cabin_Staff_Service     2174 non-null   object\n",
            " 7   Food_Beverages          2055 non-null   object\n",
            " 8   Inflight_Entertainment  1897 non-null   object\n",
            " 9   Ground_Service          1893 non-null   object\n",
            " 10  Wifi_Connectivity       850 non-null    object\n",
            " 11  Value_For_Money         2330 non-null   object\n",
            " 12  Recommended             2330 non-null   object\n",
            "dtypes: object(13)\n",
            "memory usage: 254.8+ KB\n"
          ]
        }
      ]
    },
    {
      "cell_type": "code",
      "source": [
        "df_ratings.head()"
      ],
      "metadata": {
        "colab": {
          "base_uri": "https://localhost:8080/",
          "height": 556
        },
        "id": "m7ec6DI9wWGu",
        "outputId": "4098cef3-c4ba-45af-afa7-836633d85f13"
      },
      "execution_count": null,
      "outputs": [
        {
          "output_type": "execute_result",
          "data": {
            "text/plain": [
              "   Unnamed: 0    Aircraft Type_Of_Traveller      Seat_Type  \\\n",
              "0           0         NaN      Solo Leisure  Economy Class   \n",
              "1           1         NaN      Solo Leisure  Economy Class   \n",
              "2           2        A350    Family Leisure  Economy Class   \n",
              "3           3  Boeing 747      Solo Leisure  Economy Class   \n",
              "4           4         NaN      Solo Leisure    First Class   \n",
              "\n",
              "                              Route     Date_Flown  Seat_Comfort  \\\n",
              "0  Valencia to Bangkok via Istanbul  December 2023           1.0   \n",
              "1       Panama to Bangkok via Miami  December 2022           1.0   \n",
              "2                Atlanta to Bangkok  November 2023           3.0   \n",
              "3   Seattle to Entebbe via Istanbul  November 2023           1.0   \n",
              "4     Antalia to Istanbul via Минск  November 2023           2.0   \n",
              "\n",
              "   Cabin_Staff_Service  Food_Beverages  Inflight_Entertainment  \\\n",
              "0                  1.0             2.0                     NaN   \n",
              "1                  1.0             1.0                     1.0   \n",
              "2                  5.0             5.0                     5.0   \n",
              "3                  1.0             1.0                     1.0   \n",
              "4                  4.0             2.0                     2.0   \n",
              "\n",
              "   Ground_Service  Wifi_Connectivity  Value_For_Money Recommended  \n",
              "0             3.0                NaN              1.0          no  \n",
              "1             1.0                1.0              1.0          no  \n",
              "2             1.0                NaN              4.0         yes  \n",
              "3             1.0                NaN              1.0          no  \n",
              "4             2.0                1.0              1.0          no  "
            ],
            "text/html": [
              "\n",
              "  <div id=\"df-f7915b05-02dc-4a45-b799-97e01ed66083\" class=\"colab-df-container\">\n",
              "    <div>\n",
              "<style scoped>\n",
              "    .dataframe tbody tr th:only-of-type {\n",
              "        vertical-align: middle;\n",
              "    }\n",
              "\n",
              "    .dataframe tbody tr th {\n",
              "        vertical-align: top;\n",
              "    }\n",
              "\n",
              "    .dataframe thead th {\n",
              "        text-align: right;\n",
              "    }\n",
              "</style>\n",
              "<table border=\"1\" class=\"dataframe\">\n",
              "  <thead>\n",
              "    <tr style=\"text-align: right;\">\n",
              "      <th></th>\n",
              "      <th>Unnamed: 0</th>\n",
              "      <th>Aircraft</th>\n",
              "      <th>Type_Of_Traveller</th>\n",
              "      <th>Seat_Type</th>\n",
              "      <th>Route</th>\n",
              "      <th>Date_Flown</th>\n",
              "      <th>Seat_Comfort</th>\n",
              "      <th>Cabin_Staff_Service</th>\n",
              "      <th>Food_Beverages</th>\n",
              "      <th>Inflight_Entertainment</th>\n",
              "      <th>Ground_Service</th>\n",
              "      <th>Wifi_Connectivity</th>\n",
              "      <th>Value_For_Money</th>\n",
              "      <th>Recommended</th>\n",
              "    </tr>\n",
              "  </thead>\n",
              "  <tbody>\n",
              "    <tr>\n",
              "      <th>0</th>\n",
              "      <td>0</td>\n",
              "      <td>NaN</td>\n",
              "      <td>Solo Leisure</td>\n",
              "      <td>Economy Class</td>\n",
              "      <td>Valencia to Bangkok via Istanbul</td>\n",
              "      <td>December 2023</td>\n",
              "      <td>1.0</td>\n",
              "      <td>1.0</td>\n",
              "      <td>2.0</td>\n",
              "      <td>NaN</td>\n",
              "      <td>3.0</td>\n",
              "      <td>NaN</td>\n",
              "      <td>1.0</td>\n",
              "      <td>no</td>\n",
              "    </tr>\n",
              "    <tr>\n",
              "      <th>1</th>\n",
              "      <td>1</td>\n",
              "      <td>NaN</td>\n",
              "      <td>Solo Leisure</td>\n",
              "      <td>Economy Class</td>\n",
              "      <td>Panama to Bangkok via Miami</td>\n",
              "      <td>December 2022</td>\n",
              "      <td>1.0</td>\n",
              "      <td>1.0</td>\n",
              "      <td>1.0</td>\n",
              "      <td>1.0</td>\n",
              "      <td>1.0</td>\n",
              "      <td>1.0</td>\n",
              "      <td>1.0</td>\n",
              "      <td>no</td>\n",
              "    </tr>\n",
              "    <tr>\n",
              "      <th>2</th>\n",
              "      <td>2</td>\n",
              "      <td>A350</td>\n",
              "      <td>Family Leisure</td>\n",
              "      <td>Economy Class</td>\n",
              "      <td>Atlanta to Bangkok</td>\n",
              "      <td>November 2023</td>\n",
              "      <td>3.0</td>\n",
              "      <td>5.0</td>\n",
              "      <td>5.0</td>\n",
              "      <td>5.0</td>\n",
              "      <td>1.0</td>\n",
              "      <td>NaN</td>\n",
              "      <td>4.0</td>\n",
              "      <td>yes</td>\n",
              "    </tr>\n",
              "    <tr>\n",
              "      <th>3</th>\n",
              "      <td>3</td>\n",
              "      <td>Boeing 747</td>\n",
              "      <td>Solo Leisure</td>\n",
              "      <td>Economy Class</td>\n",
              "      <td>Seattle to Entebbe via Istanbul</td>\n",
              "      <td>November 2023</td>\n",
              "      <td>1.0</td>\n",
              "      <td>1.0</td>\n",
              "      <td>1.0</td>\n",
              "      <td>1.0</td>\n",
              "      <td>1.0</td>\n",
              "      <td>NaN</td>\n",
              "      <td>1.0</td>\n",
              "      <td>no</td>\n",
              "    </tr>\n",
              "    <tr>\n",
              "      <th>4</th>\n",
              "      <td>4</td>\n",
              "      <td>NaN</td>\n",
              "      <td>Solo Leisure</td>\n",
              "      <td>First Class</td>\n",
              "      <td>Antalia to Istanbul via Минск</td>\n",
              "      <td>November 2023</td>\n",
              "      <td>2.0</td>\n",
              "      <td>4.0</td>\n",
              "      <td>2.0</td>\n",
              "      <td>2.0</td>\n",
              "      <td>2.0</td>\n",
              "      <td>1.0</td>\n",
              "      <td>1.0</td>\n",
              "      <td>no</td>\n",
              "    </tr>\n",
              "  </tbody>\n",
              "</table>\n",
              "</div>\n",
              "    <div class=\"colab-df-buttons\">\n",
              "\n",
              "  <div class=\"colab-df-container\">\n",
              "    <button class=\"colab-df-convert\" onclick=\"convertToInteractive('df-f7915b05-02dc-4a45-b799-97e01ed66083')\"\n",
              "            title=\"Convert this dataframe to an interactive table.\"\n",
              "            style=\"display:none;\">\n",
              "\n",
              "  <svg xmlns=\"http://www.w3.org/2000/svg\" height=\"24px\" viewBox=\"0 -960 960 960\">\n",
              "    <path d=\"M120-120v-720h720v720H120Zm60-500h600v-160H180v160Zm220 220h160v-160H400v160Zm0 220h160v-160H400v160ZM180-400h160v-160H180v160Zm440 0h160v-160H620v160ZM180-180h160v-160H180v160Zm440 0h160v-160H620v160Z\"/>\n",
              "  </svg>\n",
              "    </button>\n",
              "\n",
              "  <style>\n",
              "    .colab-df-container {\n",
              "      display:flex;\n",
              "      gap: 12px;\n",
              "    }\n",
              "\n",
              "    .colab-df-convert {\n",
              "      background-color: #E8F0FE;\n",
              "      border: none;\n",
              "      border-radius: 50%;\n",
              "      cursor: pointer;\n",
              "      display: none;\n",
              "      fill: #1967D2;\n",
              "      height: 32px;\n",
              "      padding: 0 0 0 0;\n",
              "      width: 32px;\n",
              "    }\n",
              "\n",
              "    .colab-df-convert:hover {\n",
              "      background-color: #E2EBFA;\n",
              "      box-shadow: 0px 1px 2px rgba(60, 64, 67, 0.3), 0px 1px 3px 1px rgba(60, 64, 67, 0.15);\n",
              "      fill: #174EA6;\n",
              "    }\n",
              "\n",
              "    .colab-df-buttons div {\n",
              "      margin-bottom: 4px;\n",
              "    }\n",
              "\n",
              "    [theme=dark] .colab-df-convert {\n",
              "      background-color: #3B4455;\n",
              "      fill: #D2E3FC;\n",
              "    }\n",
              "\n",
              "    [theme=dark] .colab-df-convert:hover {\n",
              "      background-color: #434B5C;\n",
              "      box-shadow: 0px 1px 3px 1px rgba(0, 0, 0, 0.15);\n",
              "      filter: drop-shadow(0px 1px 2px rgba(0, 0, 0, 0.3));\n",
              "      fill: #FFFFFF;\n",
              "    }\n",
              "  </style>\n",
              "\n",
              "    <script>\n",
              "      const buttonEl =\n",
              "        document.querySelector('#df-f7915b05-02dc-4a45-b799-97e01ed66083 button.colab-df-convert');\n",
              "      buttonEl.style.display =\n",
              "        google.colab.kernel.accessAllowed ? 'block' : 'none';\n",
              "\n",
              "      async function convertToInteractive(key) {\n",
              "        const element = document.querySelector('#df-f7915b05-02dc-4a45-b799-97e01ed66083');\n",
              "        const dataTable =\n",
              "          await google.colab.kernel.invokeFunction('convertToInteractive',\n",
              "                                                    [key], {});\n",
              "        if (!dataTable) return;\n",
              "\n",
              "        const docLinkHtml = 'Like what you see? Visit the ' +\n",
              "          '<a target=\"_blank\" href=https://colab.research.google.com/notebooks/data_table.ipynb>data table notebook</a>'\n",
              "          + ' to learn more about interactive tables.';\n",
              "        element.innerHTML = '';\n",
              "        dataTable['output_type'] = 'display_data';\n",
              "        await google.colab.output.renderOutput(dataTable, element);\n",
              "        const docLink = document.createElement('div');\n",
              "        docLink.innerHTML = docLinkHtml;\n",
              "        element.appendChild(docLink);\n",
              "      }\n",
              "    </script>\n",
              "  </div>\n",
              "\n",
              "\n",
              "<div id=\"df-705da69f-8efd-40d9-bc16-d7a035c97795\">\n",
              "  <button class=\"colab-df-quickchart\" onclick=\"quickchart('df-705da69f-8efd-40d9-bc16-d7a035c97795')\"\n",
              "            title=\"Suggest charts\"\n",
              "            style=\"display:none;\">\n",
              "\n",
              "<svg xmlns=\"http://www.w3.org/2000/svg\" height=\"24px\"viewBox=\"0 0 24 24\"\n",
              "     width=\"24px\">\n",
              "    <g>\n",
              "        <path d=\"M19 3H5c-1.1 0-2 .9-2 2v14c0 1.1.9 2 2 2h14c1.1 0 2-.9 2-2V5c0-1.1-.9-2-2-2zM9 17H7v-7h2v7zm4 0h-2V7h2v10zm4 0h-2v-4h2v4z\"/>\n",
              "    </g>\n",
              "</svg>\n",
              "  </button>\n",
              "\n",
              "<style>\n",
              "  .colab-df-quickchart {\n",
              "      --bg-color: #E8F0FE;\n",
              "      --fill-color: #1967D2;\n",
              "      --hover-bg-color: #E2EBFA;\n",
              "      --hover-fill-color: #174EA6;\n",
              "      --disabled-fill-color: #AAA;\n",
              "      --disabled-bg-color: #DDD;\n",
              "  }\n",
              "\n",
              "  [theme=dark] .colab-df-quickchart {\n",
              "      --bg-color: #3B4455;\n",
              "      --fill-color: #D2E3FC;\n",
              "      --hover-bg-color: #434B5C;\n",
              "      --hover-fill-color: #FFFFFF;\n",
              "      --disabled-bg-color: #3B4455;\n",
              "      --disabled-fill-color: #666;\n",
              "  }\n",
              "\n",
              "  .colab-df-quickchart {\n",
              "    background-color: var(--bg-color);\n",
              "    border: none;\n",
              "    border-radius: 50%;\n",
              "    cursor: pointer;\n",
              "    display: none;\n",
              "    fill: var(--fill-color);\n",
              "    height: 32px;\n",
              "    padding: 0;\n",
              "    width: 32px;\n",
              "  }\n",
              "\n",
              "  .colab-df-quickchart:hover {\n",
              "    background-color: var(--hover-bg-color);\n",
              "    box-shadow: 0 1px 2px rgba(60, 64, 67, 0.3), 0 1px 3px 1px rgba(60, 64, 67, 0.15);\n",
              "    fill: var(--button-hover-fill-color);\n",
              "  }\n",
              "\n",
              "  .colab-df-quickchart-complete:disabled,\n",
              "  .colab-df-quickchart-complete:disabled:hover {\n",
              "    background-color: var(--disabled-bg-color);\n",
              "    fill: var(--disabled-fill-color);\n",
              "    box-shadow: none;\n",
              "  }\n",
              "\n",
              "  .colab-df-spinner {\n",
              "    border: 2px solid var(--fill-color);\n",
              "    border-color: transparent;\n",
              "    border-bottom-color: var(--fill-color);\n",
              "    animation:\n",
              "      spin 1s steps(1) infinite;\n",
              "  }\n",
              "\n",
              "  @keyframes spin {\n",
              "    0% {\n",
              "      border-color: transparent;\n",
              "      border-bottom-color: var(--fill-color);\n",
              "      border-left-color: var(--fill-color);\n",
              "    }\n",
              "    20% {\n",
              "      border-color: transparent;\n",
              "      border-left-color: var(--fill-color);\n",
              "      border-top-color: var(--fill-color);\n",
              "    }\n",
              "    30% {\n",
              "      border-color: transparent;\n",
              "      border-left-color: var(--fill-color);\n",
              "      border-top-color: var(--fill-color);\n",
              "      border-right-color: var(--fill-color);\n",
              "    }\n",
              "    40% {\n",
              "      border-color: transparent;\n",
              "      border-right-color: var(--fill-color);\n",
              "      border-top-color: var(--fill-color);\n",
              "    }\n",
              "    60% {\n",
              "      border-color: transparent;\n",
              "      border-right-color: var(--fill-color);\n",
              "    }\n",
              "    80% {\n",
              "      border-color: transparent;\n",
              "      border-right-color: var(--fill-color);\n",
              "      border-bottom-color: var(--fill-color);\n",
              "    }\n",
              "    90% {\n",
              "      border-color: transparent;\n",
              "      border-bottom-color: var(--fill-color);\n",
              "    }\n",
              "  }\n",
              "</style>\n",
              "\n",
              "  <script>\n",
              "    async function quickchart(key) {\n",
              "      const quickchartButtonEl =\n",
              "        document.querySelector('#' + key + ' button');\n",
              "      quickchartButtonEl.disabled = true;  // To prevent multiple clicks.\n",
              "      quickchartButtonEl.classList.add('colab-df-spinner');\n",
              "      try {\n",
              "        const charts = await google.colab.kernel.invokeFunction(\n",
              "            'suggestCharts', [key], {});\n",
              "      } catch (error) {\n",
              "        console.error('Error during call to suggestCharts:', error);\n",
              "      }\n",
              "      quickchartButtonEl.classList.remove('colab-df-spinner');\n",
              "      quickchartButtonEl.classList.add('colab-df-quickchart-complete');\n",
              "    }\n",
              "    (() => {\n",
              "      let quickchartButtonEl =\n",
              "        document.querySelector('#df-705da69f-8efd-40d9-bc16-d7a035c97795 button');\n",
              "      quickchartButtonEl.style.display =\n",
              "        google.colab.kernel.accessAllowed ? 'block' : 'none';\n",
              "    })();\n",
              "  </script>\n",
              "</div>\n",
              "    </div>\n",
              "  </div>\n"
            ]
          },
          "metadata": {},
          "execution_count": 4
        }
      ]
    },
    {
      "cell_type": "code",
      "source": [
        "df_ratings.duplicated().sum()"
      ],
      "metadata": {
        "colab": {
          "base_uri": "https://localhost:8080/"
        },
        "id": "lbEtX6Ib_btV",
        "outputId": "15133ed7-263f-4f40-f9c3-21447130c63d"
      },
      "execution_count": 5,
      "outputs": [
        {
          "output_type": "execute_result",
          "data": {
            "text/plain": [
              "0"
            ]
          },
          "metadata": {},
          "execution_count": 5
        }
      ]
    },
    {
      "cell_type": "code",
      "source": [
        "df_ratings.drop_duplicates(inplace=True)"
      ],
      "metadata": {
        "id": "wO5pf7ps_krt"
      },
      "execution_count": null,
      "outputs": []
    },
    {
      "cell_type": "code",
      "source": [
        "df1 = df_ratings.copy()"
      ],
      "metadata": {
        "id": "y2Wghe06yTxI"
      },
      "execution_count": 6,
      "outputs": []
    },
    {
      "cell_type": "code",
      "source": [
        "df1.info()"
      ],
      "metadata": {
        "colab": {
          "base_uri": "https://localhost:8080/"
        },
        "id": "Wuy_NtWBzmG9",
        "outputId": "fefe090c-d3d7-4b5c-e1d1-eae74c3d91d5"
      },
      "execution_count": 7,
      "outputs": [
        {
          "output_type": "stream",
          "name": "stdout",
          "text": [
            "<class 'pandas.core.frame.DataFrame'>\n",
            "RangeIndex: 2460 entries, 0 to 2459\n",
            "Data columns (total 14 columns):\n",
            " #   Column                  Non-Null Count  Dtype  \n",
            "---  ------                  --------------  -----  \n",
            " 0   Unnamed: 0              2460 non-null   int64  \n",
            " 1   Aircraft                846 non-null    object \n",
            " 2   Type_Of_Traveller       1998 non-null   object \n",
            " 3   Seat_Type               2460 non-null   object \n",
            " 4   Route                   1992 non-null   object \n",
            " 5   Date_Flown              1998 non-null   object \n",
            " 6   Seat_Comfort            2309 non-null   float64\n",
            " 7   Cabin_Staff_Service     2304 non-null   float64\n",
            " 8   Food_Beverages          2185 non-null   float64\n",
            " 9   Inflight_Entertainment  2014 non-null   float64\n",
            " 10  Ground_Service          1895 non-null   float64\n",
            " 11  Wifi_Connectivity       851 non-null    float64\n",
            " 12  Value_For_Money         2458 non-null   float64\n",
            " 13  Recommended             2460 non-null   object \n",
            "dtypes: float64(7), int64(1), object(6)\n",
            "memory usage: 269.2+ KB\n"
          ]
        }
      ]
    },
    {
      "cell_type": "code",
      "source": [
        "df1 = df1.iloc[:,6:14]"
      ],
      "metadata": {
        "id": "yPDA7eL6Clbi"
      },
      "execution_count": 8,
      "outputs": []
    },
    {
      "cell_type": "code",
      "source": [
        "recommendation = df1['Recommended'].value_counts()\n",
        "\n",
        "plt.figure(figsize=(12,8))\n",
        "plt.bar(['No', 'Yes'], recommendation, color=['red', 'blue'])\n",
        "plt.ylabel('# of Customers')\n",
        "plt.title('Recommended?')\n",
        "plt.show();"
      ],
      "metadata": {
        "colab": {
          "base_uri": "https://localhost:8080/",
          "height": 590
        },
        "id": "Vp5PN-muoB5f",
        "outputId": "64a8f6b0-876b-43e3-ed99-8963f3208ce7"
      },
      "execution_count": 9,
      "outputs": [
        {
          "output_type": "display_data",
          "data": {
            "text/plain": [
              "<Figure size 1200x800 with 1 Axes>"
            ],
            "image/png": "[encoded data removed]"
          },
          "metadata": {}
        }
      ]
    },
    {
      "cell_type": "code",
      "source": [
        "df1['Recommended'] = df1['Recommended'].apply(lambda x: 0 if x == 'no' else 1)\n"
      ],
      "metadata": {
        "id": "B1I9yoTayoYO"
      },
      "execution_count": 10,
      "outputs": []
    },
    {
      "cell_type": "code",
      "source": [
        "df1 = df1.apply(pd.to_numeric, errors='coerce')"
      ],
      "metadata": {
        "id": "l-LTGYnMyoTN"
      },
      "execution_count": 11,
      "outputs": []
    },
    {
      "cell_type": "code",
      "source": [
        "df1.info()"
      ],
      "metadata": {
        "colab": {
          "base_uri": "https://localhost:8080/"
        },
        "id": "7Q77M2jbyoPI",
        "outputId": "9c2ddd14-ca52-4042-96ab-2955d38564fd"
      },
      "execution_count": 12,
      "outputs": [
        {
          "output_type": "stream",
          "name": "stdout",
          "text": [
            "<class 'pandas.core.frame.DataFrame'>\n",
            "RangeIndex: 2460 entries, 0 to 2459\n",
            "Data columns (total 8 columns):\n",
            " #   Column                  Non-Null Count  Dtype  \n",
            "---  ------                  --------------  -----  \n",
            " 0   Seat_Comfort            2309 non-null   float64\n",
            " 1   Cabin_Staff_Service     2304 non-null   float64\n",
            " 2   Food_Beverages          2185 non-null   float64\n",
            " 3   Inflight_Entertainment  2014 non-null   float64\n",
            " 4   Ground_Service          1895 non-null   float64\n",
            " 5   Wifi_Connectivity       851 non-null    float64\n",
            " 6   Value_For_Money         2458 non-null   float64\n",
            " 7   Recommended             2460 non-null   int64  \n",
            "dtypes: float64(7), int64(1)\n",
            "memory usage: 153.9 KB\n"
          ]
        }
      ]
    },
    {
      "cell_type": "code",
      "source": [
        "#df1.loc[pd.isna(df1.values), : ]"
      ],
      "metadata": {
        "id": "kF8yIf80_D8L"
      },
      "execution_count": null,
      "outputs": []
    },
    {
      "cell_type": "code",
      "source": [
        "df1.isnull().sum()"
      ],
      "metadata": {
        "colab": {
          "base_uri": "https://localhost:8080/"
        },
        "id": "qnI3vD3f01gB",
        "outputId": "d4b87265-c3ae-4ce7-f756-6e5c0c248467"
      },
      "execution_count": 13,
      "outputs": [
        {
          "output_type": "execute_result",
          "data": {
            "text/plain": [
              "Seat_Comfort               151\n",
              "Cabin_Staff_Service        156\n",
              "Food_Beverages             275\n",
              "Inflight_Entertainment     446\n",
              "Ground_Service             565\n",
              "Wifi_Connectivity         1609\n",
              "Value_For_Money              2\n",
              "Recommended                  0\n",
              "dtype: int64"
            ]
          },
          "metadata": {},
          "execution_count": 13
        }
      ]
    },
    {
      "cell_type": "markdown",
      "source": [
        "## Train Test Split"
      ],
      "metadata": {
        "id": "3pPbszzFLMPw"
      }
    },
    {
      "cell_type": "code",
      "source": [
        "X = df1.drop('Recommended', axis=1)\n",
        "y = df1['Recommended']"
      ],
      "metadata": {
        "id": "wBMcEu2XyoHG"
      },
      "execution_count": 14,
      "outputs": []
    },
    {
      "cell_type": "code",
      "source": [
        "X_train, X_test, y_train, y_test = train_test_split(X, y, test_size=0.2, random_state=42)"
      ],
      "metadata": {
        "id": "_jMNu1BldcTz"
      },
      "execution_count": 15,
      "outputs": []
    },
    {
      "cell_type": "markdown",
      "source": [
        "# impute missing data"
      ],
      "metadata": {
        "id": "p6KcOIV7LlaL"
      }
    },
    {
      "cell_type": "code",
      "source": [
        "# Fill missing values\n",
        "my_imputer = SimpleImputer(strategy='most_frequent')\n",
        "X_train_imputed = pd.DataFrame(my_imputer.fit_transform(X_train), columns=X_train.columns)\n",
        "X_test_imputed = pd.DataFrame(my_imputer.transform(X_test), columns=X_test.columns)"
      ],
      "metadata": {
        "id": "sLCTquACdeTZ"
      },
      "execution_count": 16,
      "outputs": []
    },
    {
      "cell_type": "markdown",
      "source": [
        "## Logistic Regression"
      ],
      "metadata": {
        "id": "5nZmFhylSyHh"
      }
    },
    {
      "cell_type": "code",
      "source": [
        "scaler = StandardScaler()"
      ],
      "metadata": {
        "id": "hcCRdtb5S2Op"
      },
      "execution_count": 42,
      "outputs": []
    },
    {
      "cell_type": "code",
      "source": [
        "X_train_scaled = scaler.fit_transform(X_train_imputed) #scale işlemini sadece X_train uygulanır\n",
        "X_test_scaled = scaler.transform(X_test_imputed)"
      ],
      "metadata": {
        "id": "At7XfFXZS2La"
      },
      "execution_count": 43,
      "outputs": []
    },
    {
      "cell_type": "code",
      "source": [
        "from sklearn.metrics import accuracy_score, precision_score, recall_score, f1_score, log_loss"
      ],
      "metadata": {
        "id": "pRyz-JF5UxCh"
      },
      "execution_count": 48,
      "outputs": []
    },
    {
      "cell_type": "code",
      "source": [
        "log_model = LogisticRegression()"
      ],
      "metadata": {
        "id": "m_R7n3tcS2IJ"
      },
      "execution_count": 44,
      "outputs": []
    },
    {
      "cell_type": "code",
      "source": [
        "log_model.fit(X_train_scaled, y_train)"
      ],
      "metadata": {
        "colab": {
          "base_uri": "https://localhost:8080/",
          "height": 75
        },
        "id": "ijtuSAl4S2Ex",
        "outputId": "00633b28-a555-4c3b-be77-731877de0823"
      },
      "execution_count": 45,
      "outputs": [
        {
          "output_type": "execute_result",
          "data": {
            "text/plain": [
              "LogisticRegression()"
            ],
            "text/html": [
              "<style>#sk-container-id-1 {color: black;background-color: white;}#sk-container-id-1 pre{padding: 0;}#sk-container-id-1 div.sk-toggleable {background-color: white;}#sk-container-id-1 label.sk-toggleable__label {cursor: pointer;display: block;width: 100%;margin-bottom: 0;padding: 0.3em;box-sizing: border-box;text-align: center;}#sk-container-id-1 label.sk-toggleable__label-arrow:before {content: \"▸\";float: left;margin-right: 0.25em;color: #696969;}#sk-container-id-1 label.sk-toggleable__label-arrow:hover:before {color: black;}#sk-container-id-1 div.sk-estimator:hover label.sk-toggleable__label-arrow:before {color: black;}#sk-container-id-1 div.sk-toggleable__content {max-height: 0;max-width: 0;overflow: hidden;text-align: left;background-color: #f0f8ff;}#sk-container-id-1 div.sk-toggleable__content pre {margin: 0.2em;color: black;border-radius: 0.25em;background-color: #f0f8ff;}#sk-container-id-1 input.sk-toggleable__control:checked~div.sk-toggleable__content {max-height: 200px;max-width: 100%;overflow: auto;}#sk-container-id-1 input.sk-toggleable__control:checked~label.sk-toggleable__label-arrow:before {content: \"▾\";}#sk-container-id-1 div.sk-estimator input.sk-toggleable__control:checked~label.sk-toggleable__label {background-color: #d4ebff;}#sk-container-id-1 div.sk-label input.sk-toggleable__control:checked~label.sk-toggleable__label {background-color: #d4ebff;}#sk-container-id-1 input.sk-hidden--visually {border: 0;clip: rect(1px 1px 1px 1px);clip: rect(1px, 1px, 1px, 1px);height: 1px;margin: -1px;overflow: hidden;padding: 0;position: absolute;width: 1px;}#sk-container-id-1 div.sk-estimator {font-family: monospace;background-color: #f0f8ff;border: 1px dotted black;border-radius: 0.25em;box-sizing: border-box;margin-bottom: 0.5em;}#sk-container-id-1 div.sk-estimator:hover {background-color: #d4ebff;}#sk-container-id-1 div.sk-parallel-item::after {content: \"\";width: 100%;border-bottom: 1px solid gray;flex-grow: 1;}#sk-container-id-1 div.sk-label:hover label.sk-toggleable__label {background-color: #d4ebff;}#sk-container-id-1 div.sk-serial::before {content: \"\";position: absolute;border-left: 1px solid gray;box-sizing: border-box;top: 0;bottom: 0;left: 50%;z-index: 0;}#sk-container-id-1 div.sk-serial {display: flex;flex-direction: column;align-items: center;background-color: white;padding-right: 0.2em;padding-left: 0.2em;position: relative;}#sk-container-id-1 div.sk-item {position: relative;z-index: 1;}#sk-container-id-1 div.sk-parallel {display: flex;align-items: stretch;justify-content: center;background-color: white;position: relative;}#sk-container-id-1 div.sk-item::before, #sk-container-id-1 div.sk-parallel-item::before {content: \"\";position: absolute;border-left: 1px solid gray;box-sizing: border-box;top: 0;bottom: 0;left: 50%;z-index: -1;}#sk-container-id-1 div.sk-parallel-item {display: flex;flex-direction: column;z-index: 1;position: relative;background-color: white;}#sk-container-id-1 div.sk-parallel-item:first-child::after {align-self: flex-end;width: 50%;}#sk-container-id-1 div.sk-parallel-item:last-child::after {align-self: flex-start;width: 50%;}#sk-container-id-1 div.sk-parallel-item:only-child::after {width: 0;}#sk-container-id-1 div.sk-dashed-wrapped {border: 1px dashed gray;margin: 0 0.4em 0.5em 0.4em;box-sizing: border-box;padding-bottom: 0.4em;background-color: white;}#sk-container-id-1 div.sk-label label {font-family: monospace;font-weight: bold;display: inline-block;line-height: 1.2em;}#sk-container-id-1 div.sk-label-container {text-align: center;}#sk-container-id-1 div.sk-container {/* jupyter's `normalize.less` sets `[hidden] { display: none; }` but bootstrap.min.css set `[hidden] { display: none !important; }` so we also need the `!important` here to be able to override the default hidden behavior on the sphinx rendered scikit-learn.org. See: https://github.com/scikit-learn/scikit-learn/issues/21755 */display: inline-block !important;position: relative;}#sk-container-id-1 div.sk-text-repr-fallback {display: none;}</style><div id=\"sk-container-id-1\" class=\"sk-top-container\"><div class=\"sk-text-repr-fallback\"><pre>LogisticRegression()</pre><b>In a Jupyter environment, please rerun this cell to show the HTML representation or trust the notebook. <br />On GitHub, the HTML representation is unable to render, please try loading this page with nbviewer.org.</b></div><div class=\"sk-container\" hidden><div class=\"sk-item\"><div class=\"sk-estimator sk-toggleable\"><input class=\"sk-toggleable__control sk-hidden--visually\" id=\"sk-estimator-id-1\" type=\"checkbox\" checked><label for=\"sk-estimator-id-1\" class=\"sk-toggleable__label sk-toggleable__label-arrow\">LogisticRegression</label><div class=\"sk-toggleable__content\"><pre>LogisticRegression()</pre></div></div></div></div></div>"
            ]
          },
          "metadata": {},
          "execution_count": 45
        }
      ]
    },
    {
      "cell_type": "code",
      "source": [
        "# Modelin tahmin olasılıklarını hesaplama\n",
        "y_pred = log_model.predict(X_test_scaled)"
      ],
      "metadata": {
        "id": "Aqh3NVmLVL_y"
      },
      "execution_count": 52,
      "outputs": []
    },
    {
      "cell_type": "code",
      "source": [
        "y_pred_train = log_model.predict(X_train_scaled)"
      ],
      "metadata": {
        "id": "VbkfySE0gSX6"
      },
      "execution_count": 68,
      "outputs": []
    },
    {
      "cell_type": "code",
      "source": [
        "log_model.score(X_test_scaled, y_test)"
      ],
      "metadata": {
        "colab": {
          "base_uri": "https://localhost:8080/"
        },
        "id": "sGJyiBdqV4em",
        "outputId": "e1750e7f-0684-46dd-aba9-7eaa771918b3"
      },
      "execution_count": 59,
      "outputs": [
        {
          "output_type": "execute_result",
          "data": {
            "text/plain": [
              "0.926829268292683"
            ]
          },
          "metadata": {},
          "execution_count": 59
        }
      ]
    },
    {
      "cell_type": "code",
      "source": [
        "precision_score(y_test, y_pred)"
      ],
      "metadata": {
        "colab": {
          "base_uri": "https://localhost:8080/"
        },
        "id": "rXb-9dWda41a",
        "outputId": "7f5c042b-ce41-46f6-bfd0-4df1ca3af994"
      },
      "execution_count": 60,
      "outputs": [
        {
          "output_type": "execute_result",
          "data": {
            "text/plain": [
              "0.8775510204081632"
            ]
          },
          "metadata": {},
          "execution_count": 60
        }
      ]
    },
    {
      "cell_type": "code",
      "source": [
        "recall_score(y_test, y_pred)"
      ],
      "metadata": {
        "colab": {
          "base_uri": "https://localhost:8080/"
        },
        "id": "S6yTHpTxbGHY",
        "outputId": "7f72ccbd-b266-4316-c5fc-31da1326fb1f"
      },
      "execution_count": 61,
      "outputs": [
        {
          "output_type": "execute_result",
          "data": {
            "text/plain": [
              "0.9347826086956522"
            ]
          },
          "metadata": {},
          "execution_count": 61
        }
      ]
    },
    {
      "cell_type": "code",
      "source": [
        "f1_score(y_test,y_pred)"
      ],
      "metadata": {
        "colab": {
          "base_uri": "https://localhost:8080/"
        },
        "id": "Qwwp42s-bKYu",
        "outputId": "15fb4a2f-1579-4a6e-c8bf-2022cbb3d867"
      },
      "execution_count": 62,
      "outputs": [
        {
          "output_type": "execute_result",
          "data": {
            "text/plain": [
              "0.9052631578947369"
            ]
          },
          "metadata": {},
          "execution_count": 62
        }
      ]
    },
    {
      "cell_type": "code",
      "source": [
        "print(\"TEST REPORT \\n\", classification_report(y_test,y_pred))\n",
        "print(\"-*\"*30)\n",
        "print(\"TRAIN REPORT \\n\", classification_report(y_train, y_pred_train))"
      ],
      "metadata": {
        "colab": {
          "base_uri": "https://localhost:8080/"
        },
        "id": "59SlPhV6bYSV",
        "outputId": "f270920a-4b25-4903-afb1-8b46d1958264"
      },
      "execution_count": 71,
      "outputs": [
        {
          "output_type": "stream",
          "name": "stdout",
          "text": [
            "TEST REPORT \n",
            "               precision    recall  f1-score   support\n",
            "\n",
            "           0       0.96      0.92      0.94       308\n",
            "           1       0.88      0.93      0.91       184\n",
            "\n",
            "    accuracy                           0.93       492\n",
            "   macro avg       0.92      0.93      0.92       492\n",
            "weighted avg       0.93      0.93      0.93       492\n",
            "\n",
            "-*-*-*-*-*-*-*-*-*-*-*-*-*-*-*-*-*-*-*-*-*-*-*-*-*-*-*-*-*-*\n",
            "TRAIN REPORT \n",
            "               precision    recall  f1-score   support\n",
            "\n",
            "           0       0.94      0.95      0.95      1223\n",
            "           1       0.91      0.91      0.91       745\n",
            "\n",
            "    accuracy                           0.93      1968\n",
            "   macro avg       0.93      0.93      0.93      1968\n",
            "weighted avg       0.93      0.93      0.93      1968\n",
            "\n"
          ]
        }
      ]
    },
    {
      "cell_type": "markdown",
      "source": [
        "## ROC"
      ],
      "metadata": {
        "id": "WuwHk4Cmdjh6"
      }
    },
    {
      "cell_type": "code",
      "source": [
        "from yellowbrick.classifier import ROCAUC"
      ],
      "metadata": {
        "id": "LQcJX0hLdqSF"
      },
      "execution_count": 65,
      "outputs": []
    },
    {
      "cell_type": "code",
      "source": [
        "visualizer = ROCAUC(log_model, classes=[str(i) for i in range(10)])\n",
        "\n",
        "visualizer.fit(X_train_scaled, y_train)        # Fit the training data to the visualizer\n",
        "visualizer.score(X_test_scaled, y_test)        # Evaluate the model on the test data\n",
        "visualizer.show();"
      ],
      "metadata": {
        "colab": {
          "base_uri": "https://localhost:8080/",
          "height": 524
        },
        "id": "f4w__KsGd3q9",
        "outputId": "5789cdec-ad3a-4531-c152-5df9640a7ca6"
      },
      "execution_count": 67,
      "outputs": [
        {
          "output_type": "display_data",
          "data": {
            "text/plain": [
              "<Figure size 800x550 with 1 Axes>"
            ],
            "image/png": "[encoded data removed]"
          },
          "metadata": {}
        }
      ]
    },
    {
      "cell_type": "markdown",
      "source": [
        "## Random Forest"
      ],
      "metadata": {
        "id": "Nckoh1LiUV6w"
      }
    },
    {
      "cell_type": "code",
      "source": [
        "# Create and train the RandomForestRegressor model\n",
        "model_rf = RandomForestRegressor(n_estimators=100, max_depth=4, random_state=42)\n",
        "model_rf.fit(X_train_imputed, y_train)\n",
        "\n",
        "\n",
        "threshold = 0.50\n",
        "# Make predictions on the test data\n",
        "y_pred_train = model_rf.predict(X_train_imputed)\n",
        "y_pred = model_rf.predict(X_test_imputed)\n",
        "\n",
        "# Convert predictions to binary classes (for example, set values greater than 0.5 to 1, others to 0)\n",
        "y_pred_binary = (y_pred > threshold).astype(int)\n",
        "y_pred_train_binary = (y_pred_train > threshold).astype(int)\n",
        "\n",
        "\n",
        "\n",
        "# Print Confusion Matrix and Classification Metrics\n",
        "print(\"Confusion Matrix:\")\n",
        "print(confusion_matrix(y_test, y_pred_binary))\n",
        "\n",
        "print(\"\\nAccuracy:\", accuracy_score(y_test, y_pred_binary))\n",
        "print(\"Precision:\", precision_score(y_test, y_pred_binary))\n",
        "print(\"Recall:\", recall_score(y_test, y_pred_binary))\n",
        "print(\"F1 Score:\", f1_score(y_test, y_pred_binary))\n"
      ],
      "metadata": {
        "colab": {
          "base_uri": "https://localhost:8080/"
        },
        "id": "GuwushyjU9sM",
        "outputId": "dbd8323c-6e2e-4a79-e0cc-24660c2b4646"
      },
      "execution_count": 40,
      "outputs": [
        {
          "output_type": "stream",
          "name": "stdout",
          "text": [
            "Confusion Matrix:\n",
            "[[291  17]\n",
            " [ 19 165]]\n",
            "\n",
            "Accuracy: 0.926829268292683\n",
            "Precision: 0.9065934065934066\n",
            "Recall: 0.8967391304347826\n",
            "F1 Score: 0.9016393442622951\n"
          ]
        }
      ]
    },
    {
      "cell_type": "code",
      "source": [
        "print(\"TEST REPORT \\n\", classification_report(y_test, y_pred_binary, digits= 3))\n",
        "print(\"-*\"*30)\n",
        "print(\"TRAIN REPORT \\n\", classification_report(y_train, y_pred_train_binary, digits= 3))"
      ],
      "metadata": {
        "colab": {
          "base_uri": "https://localhost:8080/"
        },
        "id": "bA1ULJ7H87eq",
        "outputId": "31e891ad-6f3c-40e3-8029-98bc3bc7e1d7"
      },
      "execution_count": 41,
      "outputs": [
        {
          "output_type": "stream",
          "name": "stdout",
          "text": [
            "TEST REPORT \n",
            "               precision    recall  f1-score   support\n",
            "\n",
            "           0      0.939     0.945     0.942       308\n",
            "           1      0.907     0.897     0.902       184\n",
            "\n",
            "    accuracy                          0.927       492\n",
            "   macro avg      0.923     0.921     0.922       492\n",
            "weighted avg      0.927     0.927     0.927       492\n",
            "\n",
            "-*-*-*-*-*-*-*-*-*-*-*-*-*-*-*-*-*-*-*-*-*-*-*-*-*-*-*-*-*-*\n",
            "TRAIN REPORT \n",
            "               precision    recall  f1-score   support\n",
            "\n",
            "           0      0.943     0.968     0.955      1223\n",
            "           1      0.945     0.903     0.924       745\n",
            "\n",
            "    accuracy                          0.944      1968\n",
            "   macro avg      0.944     0.936     0.940      1968\n",
            "weighted avg      0.944     0.944     0.943      1968\n",
            "\n"
          ]
        }
      ]
    },
    {
      "cell_type": "markdown",
      "source": [
        "## Conclusion"
      ],
      "metadata": {
        "id": "oKeKh9vgfkf-"
      }
    },
    {
      "cell_type": "markdown",
      "source": [
        "Both models have demonstrated a similar level of success, yet they offer distinct advantages that could be preferred in specific problem contexts.\n",
        "\n",
        "Logistic Regression draws attention with its balanced performance between classes, while Random Forest proves powerful in capturing more complex relationships.\n",
        "\n",
        "Both models have shown comparable performance on both training and test sets, indicating effective control over overfitting.\n",
        "\n",
        "The imputation of missing values in the dataset using the 'most_frequent' strategy has positively impacted model performance.\n",
        "\n",
        "These assessments lay a crucial foundation for understanding model selection and performance."
      ],
      "metadata": {
        "id": "WyVN0r-zfnJw"
      }
    },
    {
      "cell_type": "code",
      "source": [],
      "metadata": {
        "id": "Zs-TMhk0U9Vu"
      },
      "execution_count": null,
      "outputs": []
    },
    {
      "cell_type": "code",
      "source": [],
      "metadata": {
        "id": "m6R6eA2RU9Qt"
      },
      "execution_count": null,
      "outputs": []
    },
    {
      "cell_type": "code",
      "source": [],
      "metadata": {
        "id": "oy-q2BfUyn0R"
      },
      "execution_count": null,
      "outputs": []
    }
  ]
}